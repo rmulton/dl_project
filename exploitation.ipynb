{
 "cells": [
  {
   "cell_type": "code",
   "execution_count": 80,
   "metadata": {
    "collapsed": true
   },
   "outputs": [],
   "source": [
    "%matplotlib inline\n",
    "\n",
    "import pickle\n",
    "import matplotlib.pyplot as plt"
   ]
  },
  {
   "cell_type": "code",
   "execution_count": 81,
   "metadata": {},
   "outputs": [],
   "source": [
    "#Load the results\n",
    "MAIN = \"/Users/alexandresioufi/Desktop/deep_siouf/loss\"\n",
    "f0 = open(MAIN + \"0\",\"rb\")\n",
    "f1 = open(MAIN + \"1\",\"rb\")\n",
    "f2 = open(MAIN + \"2\",\"rb\")\n",
    "\n",
    "loss0 = pickle.load(f0)\n",
    "loss1 = pickle.load(f1)\n",
    "loss2 = pickle.load(f2)\n",
    "\n",
    "loss = {\"loss_train\":{},\"loss_val\":{}}\n",
    "loss[\"loss_train\"][0] = loss0[\"loss_train\"][0]\n",
    "loss[\"loss_train\"][1] = loss1[\"loss_train\"][1]\n",
    "loss[\"loss_train\"][2] = loss2[\"loss_train\"][2]\n",
    "loss[\"loss_val\"][0] = loss0[\"loss_val\"][0]\n",
    "loss[\"loss_val\"][1] = loss1[\"loss_val\"][1]\n",
    "loss[\"loss_val\"][2] = loss2[\"loss_val\"][2]"
   ]
  },
  {
   "cell_type": "code",
   "execution_count": 82,
   "metadata": {},
   "outputs": [],
   "source": [
    "loss_train = []\n",
    "loss_val = []\n",
    "for epoch in loss[\"loss_train\"]:\n",
    "    loss_train += np.array(loss[\"loss_train\"][epoch])\n",
    "\n",
    "for epoch in loss[\"loss_val\"]:\n",
    "    loss_val += loss[\"loss_val\"][epoch]"
   ]
  },
  {
   "cell_type": "code",
   "execution_count": 102,
   "metadata": {},
   "outputs": [
    {
     "name": "stdout",
     "output_type": "stream",
     "text": [
      "0.00231503299689\n",
      "0.00217095275964\n",
      "0.00216757548015\n"
     ]
    }
   ],
   "source": [
    "print(np.array(loss[\"loss_train\"][0]).mean())\n",
    "print(np.array(loss[\"loss_train\"][1]).mean())\n",
    "print(np.array(loss[\"loss_train\"][2]).mean())"
   ]
  },
  {
   "cell_type": "code",
   "execution_count": 83,
   "metadata": {},
   "outputs": [],
   "source": [
    "abs_train = [i for i in range(0, len(loss_train))]\n",
    "abs_val = [i for i in range(0, len(loss_val))]"
   ]
  },
  {
   "cell_type": "code",
   "execution_count": 103,
   "metadata": {},
   "outputs": [
    {
     "data": {
      "text/plain": [
       "[<matplotlib.lines.Line2D at 0x119b1e1d0>]"
      ]
     },
     "execution_count": 103,
     "metadata": {},
     "output_type": "execute_result"
    },
    {
     "data": {
      "image/png": "[encoded data removed]",
      "text/plain": [
       "<matplotlib.figure.Figure at 0x1119a1ef0>"
      ]
     },
     "metadata": {},
     "output_type": "display_data"
    }
   ],
   "source": [
    "plt.plot(abs_train, loss_train,)"
   ]
  },
  {
   "cell_type": "code",
   "execution_count": 94,
   "metadata": {},
   "outputs": [],
   "source": [
    "loss_train_new = loss_train[10:]\n",
    "abs_train_new = [i for i in range(0, len(loss_train_new))]"
   ]
  },
  {
   "cell_type": "code",
   "execution_count": 105,
   "metadata": {},
   "outputs": [
    {
     "data": {
      "text/plain": [
       "[<matplotlib.lines.Line2D at 0x118b1f128>]"
      ]
     },
     "execution_count": 105,
     "metadata": {},
     "output_type": "execute_result"
    },
    {
     "data": {
      "image/png": "[encoded data removed]",
      "text/plain": [
       "<matplotlib.figure.Figure at 0x117ddb198>"
      ]
     },
     "metadata": {},
     "output_type": "display_data"
    }
   ],
   "source": [
    "plt.plot(abs_train_new, loss_train_new)"
   ]
  },
  {
   "cell_type": "code",
   "execution_count": null,
   "metadata": {
    "collapsed": true
   },
   "outputs": [],
   "source": []
  }
 ],
 "metadata": {
  "kernelspec": {
   "display_name": "Python 3",
   "language": "python",
   "name": "python3"
  },
  "language_info": {
   "codemirror_mode": {
    "name": "ipython",
    "version": 3
   },
   "file_extension": ".py",
   "mimetype": "text/x-python",
   "name": "python",
   "nbconvert_exporter": "python",
   "pygments_lexer": "ipython3",
   "version": "3.6.2"
  }
 },
 "nbformat": 4,
 "nbformat_minor": 2
}
