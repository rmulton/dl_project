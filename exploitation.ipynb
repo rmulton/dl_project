{
 "cells": [
  {
   "cell_type": "code",
   "execution_count": 1,
   "metadata": {
    "collapsed": true
   },
   "outputs": [],
   "source": [
    "%matplotlib inline\n",
    "\n",
    "import pickle\n",
    "import matplotlib.pyplot as plt\n",
    "import numpy as np"
   ]
  },
  {
   "cell_type": "markdown",
   "metadata": {},
   "source": [
    "## Clustering loss"
   ]
  },
  {
   "cell_type": "code",
   "execution_count": 2,
   "metadata": {
    "collapsed": true
   },
   "outputs": [],
   "source": [
    "#Load the results\n",
    "MAIN_cluster = \"/Users/alexandresioufi/Desktop/deep_siouf/data_model_cluster/loss/loss\"\n",
    "L = []\n",
    "for i in range(10):\n",
    "    f = open(MAIN_cluster + str(i),\"rb\")\n",
    "    loss = pickle.load(f)\n",
    "    L.append(loss)\n",
    "\n",
    "loss = {\"loss_train\":{},\"loss_val\":{}}\n",
    "for i in range(10):\n",
    "    loss[\"loss_train\"][i] = L[i][\"loss_train\"][i]\n",
    "    loss[\"loss_val\"][i] = L[i][\"loss_val\"][i]"
   ]
  },
  {
   "cell_type": "code",
   "execution_count": 6,
   "metadata": {},
   "outputs": [],
   "source": [
    "loss_train = []\n",
    "loss_val = []\n",
    "for epoch in loss[\"loss_train\"]:\n",
    "    loss_train += loss[\"loss_train\"][epoch]\n",
    "\n",
    "for epoch in loss[\"loss_val\"]:\n",
    "    loss_val += loss[\"loss_val\"][epoch]\n",
    "\n",
    "abs_train = [i for i in range(0, len(loss_train))]\n",
    "plt.plot(abs_train, loss_train)"
   ]
  },
  {
   "cell_type": "code",
   "execution_count": 19,
   "metadata": {},
   "outputs": [],
   "source": [
    "#Loss val\n",
    "loss_val_epoch=[]\n",
    "for i in range(10):\n",
    "    l = L[i][\"loss_val\"][i]\n",
    "    loss_val_epoch.append(sum(l)/len(l))\n",
    "abs_val = [i for i in range(10)]\n",
    "plt.plot(abs_val, loss_val_epoch)"
   ]
  },
  {
   "cell_type": "markdown",
   "metadata": {},
   "source": [
    "## Skin loss"
   ]
  },
  {
   "cell_type": "code",
   "execution_count": null,
   "metadata": {
    "collapsed": true
   },
   "outputs": [],
   "source": [
    "#Load the results\n",
    "MAIN_loss = \"/Users/alexandresioufi/Desktop/deep_siouf/data_model_skin/loss/loss\"\n",
    "L = []\n",
    "for i in range(10):\n",
    "    f = open(MAIN_loss + str(i),\"rb\")\n",
    "    loss = pickle.load(f)\n",
    "    L.append(loss)\n",
    "\n",
    "loss = {\"loss_train\":{},\"loss_val\":{}}\n",
    "for i in range(10):\n",
    "    loss[\"loss_train\"][i] = L[i][\"loss_train\"][i]\n",
    "    loss[\"loss_val\"][i] = L[i][\"loss_val\"][i]"
   ]
  },
  {
   "cell_type": "code",
   "execution_count": null,
   "metadata": {
    "collapsed": true
   },
   "outputs": [],
   "source": [
    "loss_train = []\n",
    "loss_val = []\n",
    "for epoch in loss[\"loss_train\"]:\n",
    "    loss_train += loss[\"loss_train\"][epoch]\n",
    "\n",
    "for epoch in loss[\"loss_val\"]:\n",
    "    loss_val += loss[\"loss_val\"][epoch]\n",
    "\n",
    "abs_train = [i for i in range(0, len(loss_train))]\n",
    "plt.plot(abs_train, loss_train)"
   ]
  },
  {
   "cell_type": "code",
   "execution_count": null,
   "metadata": {
    "collapsed": true
   },
   "outputs": [],
   "source": [
    "#Loss val\n",
    "loss_val_epoch=[]\n",
    "for i in range(10):\n",
    "    l = L[i][\"loss_val\"][i]\n",
    "    loss_val_epoch.append(sum(l)/len(l))\n",
    "abs_val = [i for i in range(10)] \n",
    "\n",
    "plt.plot(abs_val, loss_val_epoch)"
   ]
  }
 ],
 "metadata": {
  "kernelspec": {
   "display_name": "Python 3",
   "language": "python",
   "name": "python3"
  },
  "language_info": {
   "codemirror_mode": {
    "name": "ipython",
    "version": 3
   },
   "file_extension": ".py",
   "mimetype": "text/x-python",
   "name": "python",
   "nbconvert_exporter": "python",
   "pygments_lexer": "ipython3",
   "version": "3.6.2"
  }
 },
 "nbformat": 4,
 "nbformat_minor": 2
}
