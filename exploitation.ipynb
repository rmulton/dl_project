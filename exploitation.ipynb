{
 "cells": [
  {
   "cell_type": "code",
   "execution_count": 80,
   "metadata": {
    "collapsed": true
   },
   "outputs": [],
   "source": [
    "%matplotlib inline\n",
    "\n",
    "import pickle\n",
    "import matplotlib.pyplot as plt"
   ]
  },
  {
   "cell_type": "code",
   "execution_count": 81,
   "metadata": {},
   "outputs": [],
   "source": [
    "#Load the results\n",
    "MAIN = \"/Users/alexandresioufi/Desktop/deep_siouf/loss\"\n",
    "f0 = open(MAIN + \"0\",\"rb\")\n",
    "f1 = open(MAIN + \"1\",\"rb\")\n",
    "f2 = open(MAIN + \"2\",\"rb\")\n",
    "\n",
    "loss0 = pickle.load(f0)\n",
    "loss1 = pickle.load(f1)\n",
    "loss2 = pickle.load(f2)\n",
    "\n",
    "loss = {\"loss_train\":{},\"loss_val\":{}}\n",
    "loss[\"loss_train\"][0] = loss0[\"loss_train\"][0]\n",
    "loss[\"loss_train\"][1] = loss1[\"loss_train\"][1]\n",
    "loss[\"loss_train\"][2] = loss2[\"loss_train\"][2]\n",
    "loss[\"loss_val\"][0] = loss0[\"loss_val\"][0]\n",
    "loss[\"loss_val\"][1] = loss1[\"loss_val\"][1]\n",
    "loss[\"loss_val\"][2] = loss2[\"loss_val\"][2]"
   ]
  },
  {
   "cell_type": "code",
   "execution_count": 126,
   "metadata": {},
   "outputs": [
    {
     "name": "stdout",
     "output_type": "stream",
     "text": [
      "0.12269902974367142\n",
      "0.30331864953041077\n",
      "0.09641355276107788\n",
      "0.08067864179611206\n",
      "0.05735955014824867\n",
      "0.03562508523464203\n",
      "0.02421456202864647\n",
      "------------\n",
      "0.0035017086192965508\n",
      "0.004025562200695276\n",
      "0.00012640401837415993\n",
      "0.0053061218932271\n",
      "0.0028333128429949284\n",
      "0.00012801209231838584\n",
      "0.0016907850513234735\n"
     ]
    }
   ],
   "source": [
    "print(loss0[\"loss_train\"][0][0])\n",
    "print(loss0[\"loss_train\"][0][1])\n",
    "print(loss0[\"loss_train\"][0][2])\n",
    "print(loss0[\"loss_train\"][0][3])\n",
    "print(loss0[\"loss_train\"][0][4])\n",
    "print(loss0[\"loss_train\"][0][5])\n",
    "print(loss0[\"loss_train\"][0][6])\n",
    "print(\"------------\")\n",
    "print(loss0[\"loss_val\"][0][0])\n",
    "print(loss0[\"loss_val\"][0][1])\n",
    "print(loss0[\"loss_val\"][0][2])\n",
    "print(loss0[\"loss_val\"][0][3])\n",
    "print(loss0[\"loss_val\"][0][4])\n",
    "print(loss0[\"loss_val\"][0][5])\n",
    "print(loss0[\"loss_val\"][0][6])"
   ]
  },
  {
   "cell_type": "code",
   "execution_count": 82,
   "metadata": {},
   "outputs": [],
   "source": [
    "loss_train = []\n",
    "loss_val = []\n",
    "for epoch in loss[\"loss_train\"]:\n",
    "    loss_train += np.array(loss[\"loss_train\"][epoch])\n",
    "\n",
    "for epoch in loss[\"loss_val\"]:\n",
    "    loss_val += loss[\"loss_val\"][epoch]"
   ]
  },
  {
   "cell_type": "code",
   "execution_count": 102,
   "metadata": {},
   "outputs": [
    {
     "name": "stdout",
     "output_type": "stream",
     "text": [
      "0.00231503299689\n",
      "0.00217095275964\n",
      "0.00216757548015\n"
     ]
    }
   ],
   "source": [
    "print(np.array(loss[\"loss_train\"][0]).mean())\n",
    "print(np.array(loss[\"loss_train\"][1]).mean())\n",
    "print(np.array(loss[\"loss_train\"][2]).mean())"
   ]
  },
  {
   "cell_type": "code",
   "execution_count": 83,
   "metadata": {},
   "outputs": [],
   "source": [
    "abs_train = [i for i in range(0, len(loss_train))]\n",
    "abs_val = [i for i in range(0, len(loss_val))]"
   ]
  },
  {
   "cell_type": "code",
   "execution_count": 134,
   "metadata": {},
   "outputs": [
    {
     "data": {
      "text/plain": [
       "[<matplotlib.lines.Line2D at 0x124470320>]"
      ]
     },
     "execution_count": 134,
     "metadata": {},
     "output_type": "execute_result"
    },
    {
     "data": {
      "image/png": "[encoded data removed]",
      "text/plain": [
       "<matplotlib.figure.Figure at 0x124470160>"
      ]
     },
     "metadata": {},
     "output_type": "display_data"
    }
   ],
   "source": [
    "plt.plot(abs_train[:100], loss_train[:100])"
   ]
  },
  {
   "cell_type": "code",
   "execution_count": 133,
   "metadata": {},
   "outputs": [
    {
     "data": {
      "text/plain": [
       "[<matplotlib.lines.Line2D at 0x12439a668>]"
      ]
     },
     "execution_count": 133,
     "metadata": {},
     "output_type": "execute_result"
    },
    {
     "data": {
      "image/png": "[encoded data removed]",
      "text/plain": [
       "<matplotlib.figure.Figure at 0x124328eb8>"
      ]
     },
     "metadata": {},
     "output_type": "display_data"
    }
   ],
   "source": [
    "plt.plot(abs_val[:10000], loss_val[:10000])"
   ]
  },
  {
   "cell_type": "code",
   "execution_count": 113,
   "metadata": {},
   "outputs": [],
   "source": [
    "loss_train_new = loss_train[20:]\n",
    "abs_train_new = [i for i in range(0, len(loss_train_new))]"
   ]
  },
  {
   "cell_type": "code",
   "execution_count": 116,
   "metadata": {},
   "outputs": [
    {
     "data": {
      "text/plain": [
       "[<matplotlib.lines.Line2D at 0x117c27e48>]"
      ]
     },
     "execution_count": 116,
     "metadata": {},
     "output_type": "execute_result"
    },
    {
     "data": {
      "image/png": "[encoded data removed]",
      "text/plain": [
       "<matplotlib.figure.Figure at 0x115f006a0>"
      ]
     },
     "metadata": {},
     "output_type": "display_data"
    }
   ],
   "source": [
    "plt.plot(abs_train_new[:20000], loss_train_new[:20000])"
   ]
  },
  {
   "cell_type": "code",
   "execution_count": 129,
   "metadata": {},
   "outputs": [
    {
     "name": "stdout",
     "output_type": "stream",
     "text": [
      "0.004038687329739332\n",
      "0.003613396780565381\n",
      "0.002860332140699029\n",
      "0.0029413707088679075\n",
      "0.0019263916183263063\n",
      "0.001941730733960867\n",
      "0.0012677038321271539\n",
      "0.002217571483924985\n",
      "0.0042616818100214005\n",
      "0.003359084716066718\n",
      "0.0021775569766759872\n",
      "0.00020988979667890817\n",
      "0.004165984224528074\n",
      "0.0013878364115953445\n",
      "0.0029315268620848656\n",
      "0.0018011163920164108\n",
      "0.0017729344544932246\n",
      "0.002045509871095419\n",
      "0.003489950904622674\n",
      "0.0027065458707511425\n",
      "0.001911721657961607\n",
      "0.0008631987147964537\n",
      "0.001920047216117382\n",
      "9.037867130246013e-05\n",
      "0.002965861465781927\n",
      "0.0008772489381954074\n",
      "0.0034259387757629156\n",
      "0.0012656908947974443\n",
      "0.005980221554636955\n",
      "0.0020850766450166702\n",
      "0.004029548726975918\n",
      "9.530907118460163e-05\n",
      "0.0031024240888655186\n",
      "9.880824654828757e-05\n",
      "0.001128863892517984\n",
      "0.0011692618718370795\n",
      "0.0018950516823679209\n",
      "0.005661081522703171\n",
      "0.00403275340795517\n",
      "0.0015925148036330938\n",
      "0.003190751653164625\n",
      "0.001948573742993176\n",
      "0.0016839460004121065\n",
      "0.0011418394278734922\n",
      "0.0029139944817870855\n",
      "0.001685716793872416\n",
      "0.004532302264124155\n",
      "0.002131967805325985\n",
      "9.451651567360386e-05\n",
      "0.002044845838099718\n",
      "0.0021763623226433992\n",
      "0.0010308207711204886\n",
      "0.0015293770702555776\n",
      "0.0032280695158988237\n",
      "0.002452738117426634\n",
      "0.001532912254333496\n",
      "0.0009810455376282334\n",
      "0.0049565681256353855\n",
      "0.004157938063144684\n",
      "0.004575193393975496\n",
      "0.00022191868629306555\n",
      "0.0028216273058205843\n",
      "0.0022898802999407053\n",
      "0.005849891342222691\n",
      "0.001666504074819386\n",
      "0.0035882466472685337\n",
      "0.0011675411369651556\n",
      "0.0014750038972124457\n",
      "0.00011006799468304962\n",
      "0.00010783923789858818\n",
      "0.0013763697352260351\n",
      "0.005281499121338129\n",
      "0.0040172250010073185\n",
      "0.00347830168902874\n",
      "7.623143756063655e-05\n",
      "0.003794074058532715\n",
      "0.002962123602628708\n",
      "0.005158405750989914\n",
      "0.0009125752840191126\n",
      "0.0027115207631140947\n",
      "0.001813250477425754\n",
      "0.0016477499157190323\n",
      "0.0022188297007232904\n",
      "0.001548717962577939\n",
      "0.0016566456761211157\n",
      "9.540141763864085e-05\n",
      "0.0054827285930514336\n",
      "0.0021532285027205944\n",
      "0.0016596519853919744\n",
      "0.003354927757754922\n",
      "0.0012611706042662263\n",
      "8.339995838468894e-05\n",
      "8.13076549093239e-05\n",
      "0.0029116265941411257\n",
      "0.00420375308021903\n",
      "0.004420493729412556\n",
      "0.0011324066435918212\n",
      "0.0021430819761008024\n",
      "0.005297177936881781\n",
      "0.0032921303063631058\n",
      "0.004644664935767651\n",
      "0.0010652093915268779\n",
      "0.00011415285553084686\n",
      "0.003703586058691144\n",
      "0.0033800501842051744\n",
      "0.004076906945556402\n",
      "0.003224273445084691\n",
      "0.0032453916501253843\n",
      "0.002205620752647519\n",
      "0.0025130014400929213\n",
      "0.0020762132480740547\n",
      "0.0026860274374485016\n",
      "0.003246312728151679\n",
      "0.0021351641044020653\n",
      "0.0008840701193548739\n",
      "0.0033148634247481823\n",
      "9.059350122697651e-05\n",
      "0.0038503974210470915\n",
      "0.0020843427628278732\n",
      "0.0011360915377736092\n",
      "0.0015328984009101987\n",
      "0.003543480997905135\n",
      "0.0034157163463532925\n",
      "0.0032595405355095863\n",
      "0.0019340971484780312\n",
      "0.0012984590139240026\n",
      "0.0027392792981117964\n",
      "0.001782537205144763\n",
      "0.001675682025961578\n",
      "0.0029803786892443895\n",
      "0.0006315049831755459\n",
      "0.003355239052325487\n",
      "0.0022691991180181503\n",
      "0.002231287071481347\n",
      "0.0010126563720405102\n",
      "0.0036192466504871845\n",
      "0.0028166258707642555\n",
      "0.003522881306707859\n",
      "9.650665742810816e-05\n",
      "0.004037743899971247\n",
      "0.0020579539705067873\n",
      "0.0008928835741244256\n",
      "0.0019562013912945986\n",
      "0.002214721404016018\n",
      "0.0011026279535144567\n",
      "0.0016750196227803826\n",
      "0.0028568629641085863\n",
      "8.351842552656308e-05\n",
      "0.003122626570984721\n",
      "0.003245031228289008\n",
      "0.0008772120927460492\n",
      "0.002176290610805154\n",
      "0.001408859621733427\n",
      "0.0022175463382154703\n",
      "0.003455362981185317\n",
      "0.001509164460003376\n",
      "0.006158086471259594\n",
      "0.0009975654538720846\n",
      "0.004207957535982132\n",
      "0.0018831691704690456\n",
      "0.002227797405794263\n",
      "0.00010279171692673117\n",
      "0.0021718209609389305\n",
      "0.0027136397548019886\n",
      "0.0016917154425755143\n",
      "0.0029619515407830477\n",
      "9.584590588929132e-05\n",
      "0.0021326630376279354\n",
      "0.0022099169436842203\n",
      "0.0008828400168567896\n",
      "0.0018184940563514829\n",
      "0.0019455304136499763\n",
      "7.659448601771146e-05\n",
      "7.849606481613591e-05\n",
      "0.0006954541895538568\n",
      "0.0035329514648765326\n",
      "0.00352521613240242\n",
      "0.0022299911361187696\n",
      "0.0022113698069006205\n",
      "0.001960845896974206\n",
      "0.00538620725274086\n",
      "8.904746937332675e-05\n",
      "0.004064495209604502\n",
      "0.00428328663110733\n",
      "0.00010370301606599241\n",
      "0.002186679281294346\n",
      "0.0012635254533961415\n",
      "0.0018058780115097761\n",
      "0.0033979315776377916\n",
      "0.003256192896515131\n",
      "0.00445766793563962\n",
      "0.002011100295931101\n",
      "8.654896373627707e-05\n",
      "0.0013884622603654861\n",
      "0.0018087058560922742\n",
      "0.00364976585842669\n",
      "0.0021668134722858667\n",
      "0.0022064947988837957\n",
      "8.093428914435208e-05\n",
      "0.002213273895904422\n"
     ]
    }
   ],
   "source": [
    "for i in range(200):\n",
    "    print(loss2[\"loss_train\"][2][i])\n",
    "    "
   ]
  },
  {
   "cell_type": "code",
   "execution_count": null,
   "metadata": {
    "collapsed": true
   },
   "outputs": [],
   "source": []
  }
 ],
 "metadata": {
  "kernelspec": {
   "display_name": "Python 3",
   "language": "python",
   "name": "python3"
  },
  "language_info": {
   "codemirror_mode": {
    "name": "ipython",
    "version": 3
   },
   "file_extension": ".py",
   "mimetype": "text/x-python",
   "name": "python",
   "nbconvert_exporter": "python",
   "pygments_lexer": "ipython3",
   "version": "3.6.2"
  }
 },
 "nbformat": 4,
 "nbformat_minor": 2
}
